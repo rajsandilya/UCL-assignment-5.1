{
 "cells": [
  {
   "cell_type": "markdown",
   "metadata": {},
   "source": [
    "### Will a Customer Accept the Coupon?\n",
    "\n",
    "**Overview**\n",
    "\n",
    "The goal of this project is to use what you know about visualizations and probability distributions to distinguish between customers who accepted a driving coupon versus those that did not.\n",
    "\n",
    "**Data**\n",
    "\n",
    "\n",
    "This data comes to us from the UCI Machine Learning repository and was collected via a survey on Amazon Mechanical Turk. The survey describes different driving scenarios including the destination, current time, weather, passenger, etc., and then ask the person whether he will accept the coupon if he is the driver. Answers that the user will drive there ‘right away’ or ‘later before the coupon expires’ are labeled as ‘Y = 1’ and answers ‘no, I do not want the coupon’ are labeled as ‘Y = 0’.  There are five different types of coupons -- less expensive restaurants (under \\\\$20), coffee houses, carry out & take away, bar, and more expensive restaurants (\\\\$20 - \\\\$50). "
   ]
  },
  {
   "cell_type": "markdown",
   "metadata": {},
   "source": [
    "**Deliverables**\n",
    "\n",
    "Your final product should be a brief report that highlights the differences between customers who did and did not accept the coupons.  To explore the data you will utilize your knowledge of plotting, statistical summaries, and visualization using Python. You will publish your findings in a public facing github repository as your first portfolio piece. \n",
    "\n",
    "\n",
    "\n"
   ]
  },
  {
   "cell_type": "markdown",
   "metadata": {},
   "source": [
    "### Data Description\n",
    "\n",
    "The attributes of this data set include:\n",
    "1. User attributes\n",
    "    -  Gender: male, female\n",
    "    -  Age: below 21, 21 to 25, 26 to 30, etc.\n",
    "    -  Marital Status: single, married partner, unmarried partner, or widowed\n",
    "    -  Number of children: 0, 1, or more than 1\n",
    "    -  Education: high school, bachelors degree, associates degree, or graduate degree\n",
    "    -  Occupation: architecture & engineering, business & financial, etc.\n",
    "    -  Annual income: less than \\\\$12500, \\\\$12500 - \\\\$24999, \\\\$25000 - \\\\$37499, etc.\n",
    "    -  Number of times that he/she goes to a bar: 0, less than 1, 1 to 3, 4 to 8 or greater than 8\n",
    "    -  Number of times that he/she buys takeaway food: 0, less than 1, 1 to 3, 4 to 8 or greater\n",
    "    than 8\n",
    "    -  Number of times that he/she goes to a coffee house: 0, less than 1, 1 to 3, 4 to 8 or\n",
    "    greater than 8\n",
    "    -  Number of times that he/she eats at a restaurant with average expense less than \\\\$20 per\n",
    "    person: 0, less than 1, 1 to 3, 4 to 8 or greater than 8\n",
    "    -  Number of times that he/she goes to a bar: 0, less than 1, 1 to 3, 4 to 8 or greater than 8\n",
    "\n",
    "2. Contextual attributes\n",
    "    - Driving destination: home, work, or no urgent destination\n",
    "    - Location of user, coupon and destination: we provide a map to show the geographical\n",
    "    location of the user, destination, and the venue, and we mark the distance between each\n",
    "    two places with time of driving. The user can see whether the venue is in the same\n",
    "    direction as the destination.\n",
    "    - Weather: sunny, rainy, or snowy\n",
    "    - Temperature: 30F, 55F, or 80F\n",
    "    - Time: 10AM, 2PM, or 6PM\n",
    "    - Passenger: alone, partner, kid(s), or friend(s)\n",
    "\n",
    "3. Coupon attributes\n",
    "    - time before it expires: 2 hours or one day"
   ]
  },
  {
   "cell_type": "code",
   "execution_count": 341,
   "metadata": {},
   "outputs": [],
   "source": [
    "import matplotlib.pyplot as plt\n",
    "import seaborn as sns\n",
    "import pandas as pd\n",
    "import numpy as np\n",
    "from scipy.stats import ttest_1samp\n",
    "from scipy.stats import ttest_ind"
   ]
  },
  {
   "cell_type": "markdown",
   "metadata": {},
   "source": [
    "### Problems\n",
    "\n",
    "Use the prompts below to get started with your data analysis.  \n",
    "\n",
    "1. Read in the `coupons.csv` file.\n",
    "\n",
    "\n"
   ]
  },
  {
   "cell_type": "code",
   "execution_count": 342,
   "metadata": {},
   "outputs": [],
   "source": [
    "data = pd.read_csv('data/coupons.csv')"
   ]
  },
  {
   "cell_type": "code",
   "execution_count": 343,
   "metadata": {},
   "outputs": [
    {
     "data": {
      "text/html": [
       "<div>\n",
       "<style scoped>\n",
       "    .dataframe tbody tr th:only-of-type {\n",
       "        vertical-align: middle;\n",
       "    }\n",
       "\n",
       "    .dataframe tbody tr th {\n",
       "        vertical-align: top;\n",
       "    }\n",
       "\n",
       "    .dataframe thead th {\n",
       "        text-align: right;\n",
       "    }\n",
       "</style>\n",
       "<table border=\"1\" class=\"dataframe\">\n",
       "  <thead>\n",
       "    <tr style=\"text-align: right;\">\n",
       "      <th></th>\n",
       "      <th>destination</th>\n",
       "      <th>passanger</th>\n",
       "      <th>weather</th>\n",
       "      <th>temperature</th>\n",
       "      <th>time</th>\n",
       "      <th>coupon</th>\n",
       "      <th>expiration</th>\n",
       "      <th>gender</th>\n",
       "      <th>age</th>\n",
       "      <th>maritalStatus</th>\n",
       "      <th>...</th>\n",
       "      <th>CoffeeHouse</th>\n",
       "      <th>CarryAway</th>\n",
       "      <th>RestaurantLessThan20</th>\n",
       "      <th>Restaurant20To50</th>\n",
       "      <th>toCoupon_GEQ5min</th>\n",
       "      <th>toCoupon_GEQ15min</th>\n",
       "      <th>toCoupon_GEQ25min</th>\n",
       "      <th>direction_same</th>\n",
       "      <th>direction_opp</th>\n",
       "      <th>Y</th>\n",
       "    </tr>\n",
       "  </thead>\n",
       "  <tbody>\n",
       "    <tr>\n",
       "      <th>0</th>\n",
       "      <td>No Urgent Place</td>\n",
       "      <td>Alone</td>\n",
       "      <td>Sunny</td>\n",
       "      <td>55</td>\n",
       "      <td>2PM</td>\n",
       "      <td>Restaurant(&lt;20)</td>\n",
       "      <td>1d</td>\n",
       "      <td>Female</td>\n",
       "      <td>21</td>\n",
       "      <td>Unmarried partner</td>\n",
       "      <td>...</td>\n",
       "      <td>never</td>\n",
       "      <td>NaN</td>\n",
       "      <td>4~8</td>\n",
       "      <td>1~3</td>\n",
       "      <td>1</td>\n",
       "      <td>0</td>\n",
       "      <td>0</td>\n",
       "      <td>0</td>\n",
       "      <td>1</td>\n",
       "      <td>1</td>\n",
       "    </tr>\n",
       "    <tr>\n",
       "      <th>1</th>\n",
       "      <td>No Urgent Place</td>\n",
       "      <td>Friend(s)</td>\n",
       "      <td>Sunny</td>\n",
       "      <td>80</td>\n",
       "      <td>10AM</td>\n",
       "      <td>Coffee House</td>\n",
       "      <td>2h</td>\n",
       "      <td>Female</td>\n",
       "      <td>21</td>\n",
       "      <td>Unmarried partner</td>\n",
       "      <td>...</td>\n",
       "      <td>never</td>\n",
       "      <td>NaN</td>\n",
       "      <td>4~8</td>\n",
       "      <td>1~3</td>\n",
       "      <td>1</td>\n",
       "      <td>0</td>\n",
       "      <td>0</td>\n",
       "      <td>0</td>\n",
       "      <td>1</td>\n",
       "      <td>0</td>\n",
       "    </tr>\n",
       "    <tr>\n",
       "      <th>2</th>\n",
       "      <td>No Urgent Place</td>\n",
       "      <td>Friend(s)</td>\n",
       "      <td>Sunny</td>\n",
       "      <td>80</td>\n",
       "      <td>10AM</td>\n",
       "      <td>Carry out &amp; Take away</td>\n",
       "      <td>2h</td>\n",
       "      <td>Female</td>\n",
       "      <td>21</td>\n",
       "      <td>Unmarried partner</td>\n",
       "      <td>...</td>\n",
       "      <td>never</td>\n",
       "      <td>NaN</td>\n",
       "      <td>4~8</td>\n",
       "      <td>1~3</td>\n",
       "      <td>1</td>\n",
       "      <td>1</td>\n",
       "      <td>0</td>\n",
       "      <td>0</td>\n",
       "      <td>1</td>\n",
       "      <td>1</td>\n",
       "    </tr>\n",
       "    <tr>\n",
       "      <th>3</th>\n",
       "      <td>No Urgent Place</td>\n",
       "      <td>Friend(s)</td>\n",
       "      <td>Sunny</td>\n",
       "      <td>80</td>\n",
       "      <td>2PM</td>\n",
       "      <td>Coffee House</td>\n",
       "      <td>2h</td>\n",
       "      <td>Female</td>\n",
       "      <td>21</td>\n",
       "      <td>Unmarried partner</td>\n",
       "      <td>...</td>\n",
       "      <td>never</td>\n",
       "      <td>NaN</td>\n",
       "      <td>4~8</td>\n",
       "      <td>1~3</td>\n",
       "      <td>1</td>\n",
       "      <td>1</td>\n",
       "      <td>0</td>\n",
       "      <td>0</td>\n",
       "      <td>1</td>\n",
       "      <td>0</td>\n",
       "    </tr>\n",
       "    <tr>\n",
       "      <th>4</th>\n",
       "      <td>No Urgent Place</td>\n",
       "      <td>Friend(s)</td>\n",
       "      <td>Sunny</td>\n",
       "      <td>80</td>\n",
       "      <td>2PM</td>\n",
       "      <td>Coffee House</td>\n",
       "      <td>1d</td>\n",
       "      <td>Female</td>\n",
       "      <td>21</td>\n",
       "      <td>Unmarried partner</td>\n",
       "      <td>...</td>\n",
       "      <td>never</td>\n",
       "      <td>NaN</td>\n",
       "      <td>4~8</td>\n",
       "      <td>1~3</td>\n",
       "      <td>1</td>\n",
       "      <td>1</td>\n",
       "      <td>0</td>\n",
       "      <td>0</td>\n",
       "      <td>1</td>\n",
       "      <td>0</td>\n",
       "    </tr>\n",
       "  </tbody>\n",
       "</table>\n",
       "<p>5 rows × 26 columns</p>\n",
       "</div>"
      ],
      "text/plain": [
       "       destination  passanger weather  temperature  time  \\\n",
       "0  No Urgent Place      Alone   Sunny           55   2PM   \n",
       "1  No Urgent Place  Friend(s)   Sunny           80  10AM   \n",
       "2  No Urgent Place  Friend(s)   Sunny           80  10AM   \n",
       "3  No Urgent Place  Friend(s)   Sunny           80   2PM   \n",
       "4  No Urgent Place  Friend(s)   Sunny           80   2PM   \n",
       "\n",
       "                  coupon expiration  gender age      maritalStatus  ...  \\\n",
       "0        Restaurant(<20)         1d  Female  21  Unmarried partner  ...   \n",
       "1           Coffee House         2h  Female  21  Unmarried partner  ...   \n",
       "2  Carry out & Take away         2h  Female  21  Unmarried partner  ...   \n",
       "3           Coffee House         2h  Female  21  Unmarried partner  ...   \n",
       "4           Coffee House         1d  Female  21  Unmarried partner  ...   \n",
       "\n",
       "   CoffeeHouse CarryAway RestaurantLessThan20 Restaurant20To50  \\\n",
       "0        never       NaN                  4~8              1~3   \n",
       "1        never       NaN                  4~8              1~3   \n",
       "2        never       NaN                  4~8              1~3   \n",
       "3        never       NaN                  4~8              1~3   \n",
       "4        never       NaN                  4~8              1~3   \n",
       "\n",
       "  toCoupon_GEQ5min toCoupon_GEQ15min toCoupon_GEQ25min direction_same  \\\n",
       "0                1                 0                 0              0   \n",
       "1                1                 0                 0              0   \n",
       "2                1                 1                 0              0   \n",
       "3                1                 1                 0              0   \n",
       "4                1                 1                 0              0   \n",
       "\n",
       "  direction_opp  Y  \n",
       "0             1  1  \n",
       "1             1  0  \n",
       "2             1  1  \n",
       "3             1  0  \n",
       "4             1  0  \n",
       "\n",
       "[5 rows x 26 columns]"
      ]
     },
     "execution_count": 343,
     "metadata": {},
     "output_type": "execute_result"
    }
   ],
   "source": [
    "data.head()"
   ]
  },
  {
   "cell_type": "markdown",
   "metadata": {},
   "source": [
    "2. Investigate the dataset for missing or problematic data."
   ]
  },
  {
   "cell_type": "code",
   "execution_count": 444,
   "metadata": {},
   "outputs": [
    {
     "name": "stdout",
     "output_type": "stream",
     "text": [
      "<class 'pandas.core.frame.DataFrame'>\n",
      "RangeIndex: 12684 entries, 0 to 12683\n",
      "Data columns (total 26 columns):\n",
      " #   Column                Non-Null Count  Dtype \n",
      "---  ------                --------------  ----- \n",
      " 0   destination           12684 non-null  object\n",
      " 1   passanger             12684 non-null  object\n",
      " 2   weather               12684 non-null  object\n",
      " 3   temperature           12684 non-null  int64 \n",
      " 4   time                  12684 non-null  object\n",
      " 5   coupon                12684 non-null  object\n",
      " 6   expiration            12684 non-null  int64 \n",
      " 7   gender                12684 non-null  object\n",
      " 8   age                   12684 non-null  int64 \n",
      " 9   maritalStatus         12684 non-null  object\n",
      " 10  has_children          12684 non-null  int64 \n",
      " 11  education             12684 non-null  object\n",
      " 12  occupation            12684 non-null  object\n",
      " 13  income                12684 non-null  int64 \n",
      " 14  car                   12684 non-null  object\n",
      " 15  Bar                   12684 non-null  int64 \n",
      " 16  CoffeeHouse           12684 non-null  int64 \n",
      " 17  CarryAway             12684 non-null  int64 \n",
      " 18  RestaurantLessThan20  12684 non-null  int64 \n",
      " 19  Restaurant20To50      12684 non-null  int64 \n",
      " 20  toCoupon_GEQ5min      12684 non-null  int64 \n",
      " 21  toCoupon_GEQ15min     12684 non-null  int64 \n",
      " 22  toCoupon_GEQ25min     12684 non-null  int64 \n",
      " 23  direction_same        12684 non-null  int64 \n",
      " 24  direction_opp         12684 non-null  int64 \n",
      " 25  Y                     12684 non-null  int64 \n",
      "dtypes: int64(16), object(10)\n",
      "memory usage: 2.5+ MB\n"
     ]
    }
   ],
   "source": [
    "data.isnull().sum()\n",
    "data['income'].unique()"
   ]
  },
  {
   "cell_type": "markdown",
   "metadata": {},
   "source": [
    "3. Decide what to do about your missing data -- drop, replace, other..."
   ]
  },
  {
   "cell_type": "code",
   "execution_count": 415,
   "metadata": {},
   "outputs": [
    {
     "data": {
      "text/plain": [
       "destination             0\n",
       "passanger               0\n",
       "weather                 0\n",
       "temperature             0\n",
       "time                    0\n",
       "coupon                  0\n",
       "expiration              0\n",
       "gender                  0\n",
       "age                     0\n",
       "maritalStatus           0\n",
       "has_children            0\n",
       "education               0\n",
       "occupation              0\n",
       "income                  0\n",
       "car                     0\n",
       "Bar                     0\n",
       "CoffeeHouse             0\n",
       "CarryAway               0\n",
       "RestaurantLessThan20    0\n",
       "Restaurant20To50        0\n",
       "toCoupon_GEQ5min        0\n",
       "toCoupon_GEQ15min       0\n",
       "toCoupon_GEQ25min       0\n",
       "direction_same          0\n",
       "direction_opp           0\n",
       "Y                       0\n",
       "dtype: int64"
      ]
     },
     "execution_count": 415,
     "metadata": {},
     "output_type": "execute_result"
    }
   ],
   "source": [
    "# Instead of dropping null values, give them some numeric values with in the range\n",
    "data['car'].fillna(\"No car\", inplace=True)\n",
    "data['Bar'].fillna(0, inplace=True)\n",
    "data['CoffeeHouse'].fillna(0, inplace=True)\n",
    "data['CarryAway'].fillna(0, inplace=True)\n",
    "data['RestaurantLessThan20'].fillna(0, inplace=True)\n",
    "data['Restaurant20To50'].fillna(0, inplace=True)\n",
    "data = data.replace({'Bar': {'never': 0,'less1': 0,'1~3': 2, 'gt8' : 10 , '4~8': 7}})\n",
    "data = data.replace({'CoffeeHouse': {'never': 0,'less1': 0,'1~3': 2, 'gt8' : 10 , '4~8': 7}})\n",
    "data = data.replace({'CarryAway': {'never': 0,'less1': 0,'1~3': 2, 'gt8' : 10 , '4~8': 7}})\n",
    "data = data.replace({'RestaurantLessThan20': {'never': 0,'less1': 0,'1~3': 2, 'gt8' : 10 , '4~8': 7}})\n",
    "data = data.replace({'Restaurant20To50': {'never': 0,'less1': 0,'1~3': 2, 'gt8' : 10 , '4~8': 7}})\n",
    "data = data.replace({'age': {'50plus': 55,'below21': 18, '21': 21, '46' : 46, '26': 26, '31' : 31, '41': 41, '36': 36 }})\n",
    "data = data.replace({'expiration': {'1d': 24,'2h': 2,}})\n",
    "data = data.replace({'income': {'$37500 - $49999': 45000, '$62500 - $74999': 70000,'$12500 - $24999': 20000,'$75000 - $87499': 85000, '$50000 - $62499': 56000, '$25000 - $37499': 32000,'$100000 or More': 105000,'$87500 - $99999': 92000,'Less than $12500': 10000}})\n",
    "data.astype({'CoffeeHouse': 'int64','Bar': 'int64','CarryAway': 'int64','RestaurantLessThan20': 'int64','Restaurant20To50': 'int64','age': 'int64','expiration':'int64','income':'int64'}).dtypes\n",
    "data.isnull().sum()"
   ]
  },
  {
   "cell_type": "markdown",
   "metadata": {},
   "source": [
    "4. What proportion of the total observations chose to accept the coupon? \n",
    "\n"
   ]
  },
  {
   "cell_type": "code",
   "execution_count": 430,
   "metadata": {},
   "outputs": [
    {
     "data": {
      "text/plain": [
       "0.5684326710816777"
      ]
     },
     "execution_count": 430,
     "metadata": {},
     "output_type": "execute_result"
    }
   ],
   "source": [
    "proportion = data.query(\"Y==1\")['Y'].count()/data['Y'].count()\n",
    "proportion\n",
    "# 56 percent"
   ]
  },
  {
   "cell_type": "markdown",
   "metadata": {},
   "source": [
    "5. Use a bar plot to visualize the `coupon` column."
   ]
  },
  {
   "cell_type": "code",
   "execution_count": 348,
   "metadata": {},
   "outputs": [
    {
     "data": {
      "text/plain": [
       "(array([0, 1, 2, 3, 4]),\n",
       " [Text(0, 0, 'Restaurant(<20)'),\n",
       "  Text(1, 0, 'Coffee House'),\n",
       "  Text(2, 0, 'Carry out & Take away'),\n",
       "  Text(3, 0, 'Bar'),\n",
       "  Text(4, 0, 'Restaurant(20-50)')])"
      ]
     },
     "execution_count": 348,
     "metadata": {},
     "output_type": "execute_result"
    },
    {
     "data": {
      "image/png": "[encoded data removed]",
      "text/plain": [
       "<Figure size 432x288 with 1 Axes>"
      ]
     },
     "metadata": {
      "needs_background": "light"
     },
     "output_type": "display_data"
    }
   ],
   "source": [
    "sns.countplot(data=data, x= 'coupon')\n",
    "plt.xticks(rotation=45)"
   ]
  },
  {
   "cell_type": "markdown",
   "metadata": {},
   "source": [
    "6. Use a histogram to visualize the temperature column."
   ]
  },
  {
   "cell_type": "code",
   "execution_count": 349,
   "metadata": {},
   "outputs": [
    {
     "data": {
      "image/png": "[encoded data removed]",
      "text/plain": [
       "<Figure size 432x288 with 1 Axes>"
      ]
     },
     "metadata": {
      "needs_background": "light"
     },
     "output_type": "display_data"
    }
   ],
   "source": [
    "sns.histplot(data=data,x='coupon', hue='expiration')\n",
    "plt.xticks(rotation=45);"
   ]
  },
  {
   "cell_type": "code",
   "execution_count": 350,
   "metadata": {},
   "outputs": [
    {
     "data": {
      "image/png": "[encoded data removed]",
      "text/plain": [
       "<Figure size 432x288 with 1 Axes>"
      ]
     },
     "metadata": {
      "needs_background": "light"
     },
     "output_type": "display_data"
    }
   ],
   "source": [
    "sns.histplot(data=data,x='coupon', hue='age')\n",
    "plt.xticks(rotation=45);"
   ]
  },
  {
   "cell_type": "code",
   "execution_count": 351,
   "metadata": {},
   "outputs": [
    {
     "data": {
      "image/png": "[encoded data removed]",
      "text/plain": [
       "<Figure size 432x288 with 1 Axes>"
      ]
     },
     "metadata": {
      "needs_background": "light"
     },
     "output_type": "display_data"
    }
   ],
   "source": [
    "sns.histplot(data=data,x='coupon', hue='maritalStatus')\n",
    "plt.xticks(rotation=45);"
   ]
  },
  {
   "cell_type": "code",
   "execution_count": 375,
   "metadata": {},
   "outputs": [
    {
     "data": {
      "image/png": "[encoded data removed]",
      "text/plain": [
       "<Figure size 432x288 with 1 Axes>"
      ]
     },
     "metadata": {
      "needs_background": "light"
     },
     "output_type": "display_data"
    }
   ],
   "source": [
    "sns.histplot(data=data,x='coupon', hue='gender');\n",
    "plt.xticks(rotation=45);\n"
   ]
  },
  {
   "cell_type": "code",
   "execution_count": 353,
   "metadata": {},
   "outputs": [
    {
     "data": {
      "image/png": "[encoded data removed]",
      "text/plain": [
       "<Figure size 432x288 with 1 Axes>"
      ]
     },
     "metadata": {
      "needs_background": "light"
     },
     "output_type": "display_data"
    }
   ],
   "source": [
    "sns.histplot(data=data,x='coupon', hue='income')\n",
    "plt.xticks(rotation=45);"
   ]
  },
  {
   "cell_type": "markdown",
   "metadata": {},
   "source": [
    "**Investigating the Bar Coupons**\n",
    "\n",
    "Now, we will lead you through an exploration of just the bar related coupons.  \n",
    "\n",
    "1. Create a new `DataFrame` that contains just the bar coupons.\n"
   ]
  },
  {
   "cell_type": "code",
   "execution_count": 354,
   "metadata": {},
   "outputs": [
    {
     "data": {
      "text/plain": [
       "count    2017.000000\n",
       "mean        0.410015\n",
       "std         0.491958\n",
       "min         0.000000\n",
       "25%         0.000000\n",
       "50%         0.000000\n",
       "75%         1.000000\n",
       "max         1.000000\n",
       "Name: Y, dtype: float64"
      ]
     },
     "execution_count": 354,
     "metadata": {},
     "output_type": "execute_result"
    }
   ],
   "source": [
    "bar_coupon_data = data.query(\"coupon == 'Bar'\")\n",
    "bar_coupon_data['Y'].describe()\n"
   ]
  },
  {
   "cell_type": "markdown",
   "metadata": {},
   "source": [
    "2. What proportion of bar coupons were accepted?\n"
   ]
  },
  {
   "cell_type": "code",
   "execution_count": 355,
   "metadata": {},
   "outputs": [
    {
     "data": {
      "text/plain": [
       "0.41001487357461575"
      ]
     },
     "execution_count": 355,
     "metadata": {},
     "output_type": "execute_result"
    }
   ],
   "source": [
    "prop_bar_coupon = bar_coupon_data.query(\"Y==1\")['Y'].count()/bar_coupon_data['Y'].count()\n",
    "prop_bar_coupon\n",
    "# 41 percent"
   ]
  },
  {
   "cell_type": "markdown",
   "metadata": {},
   "source": [
    "3. Compare the acceptance rate between those who went to a bar 3 or fewer times a month to those who went more.\n"
   ]
  },
  {
   "cell_type": "code",
   "execution_count": 356,
   "metadata": {},
   "outputs": [
    {
     "name": "stdout",
     "output_type": "stream",
     "text": [
      "Percentage of drivers, who visited a Bar Less than 3 times and accepted the coupon 0.3341596430342092\n",
      "Percentage of drivers, who visited a Bar More than 3 times and accepted the coupon 0.07585523054040655\n",
      "Drivers, who visited a Bar 3 or fewer times a month accepted coupons more!\n"
     ]
    }
   ],
   "source": [
    "prop1_bar_coupon = bar_coupon_data.query(\"Y==1 & Bar <= 3\")['Y'].count()/bar_coupon_data['Y'].count()\n",
    "prop2_bar_coupon = bar_coupon_data.query(\"Y==1 & Bar > 3\")['Y'].count()/bar_coupon_data['Y'].count()\n",
    "print('Percentage of drivers, who visited a Bar Less than 3 times and accepted the coupon', prop1_bar_coupon);\n",
    "print('Percentage of drivers, who visited a Bar More than 3 times and accepted the coupon', prop2_bar_coupon);\n",
    "print('Drivers, who visited a Bar 3 or fewer times a month accepted coupons more!');"
   ]
  },
  {
   "cell_type": "markdown",
   "metadata": {},
   "source": [
    "4. Compare the acceptance rate between drivers who go to a bar more than once a month and are over the age of 25 to the all others.  Is there a difference?\n"
   ]
  },
  {
   "cell_type": "code",
   "execution_count": 357,
   "metadata": {},
   "outputs": [
    {
     "name": "stdout",
     "output_type": "stream",
     "text": [
      "0.14476945959345563 0.06395637084779375\n",
      "Coupon acceptance rate of drivers, who visited Bar Less than 1 time a month and are over the age of 25:  0.14476945959345563\n",
      "Coupon acceptance rate of drivers, to all other criteria:  0.06395637084779375\n",
      "Acceptence rate is higher among the drivers who go to a bar more than once a month and are over the age of 25!\n"
     ]
    }
   ],
   "source": [
    "prop3_bar_coupon = bar_coupon_data.query(\"Y==1 & Bar > 1 & age > 25\")['Y'].count()/bar_coupon_data['Y'].count()\n",
    "prop4_bar_coupon = bar_coupon_data.query(\"Y==1 & Bar < 1 & age < 25\")['Y'].count()/bar_coupon_data['Y'].count()\n",
    "print(prop3_bar_coupon,prop4_bar_coupon)\n",
    "print('Coupon acceptance rate of drivers, who visited Bar More than 1 time a month and are over the age of 25: ', prop3_bar_coupon);\n",
    "print('Coupon acceptance rate of drivers, to all other criteria: ', prop4_bar_coupon);\n",
    "print('Acceptence rate is higher among the drivers who go to a bar more than once a month and are over the age of 25!')\n"
   ]
  },
  {
   "cell_type": "markdown",
   "metadata": {},
   "source": [
    "5. Construct a null and alternative hypothesis for the difference between groups of drivers who go to a bar more than once a month and are over the age of 25 to all other drivers. "
   ]
  },
  {
   "cell_type": "code",
   "execution_count": 358,
   "metadata": {},
   "outputs": [
    {
     "name": "stdout",
     "output_type": "stream",
     "text": [
      "Null Hypothesis: Means of drivers who go to a bar more than once a month and are over the age of 25 is equal to the others \n",
      "Alternate Hypothesis: Means are not equal\n",
      "tscore for our two Hypothesis  8.654024643358403\n",
      "pvalue for our two Hypothesis  3.038189734783712e-17\n"
     ]
    }
   ],
   "source": [
    "print('Null Hypothesis: Means of drivers who go to a bar more than once a month and are over the age of 25 is equal to the others ')\n",
    "print('Alternate Hypothesis: Means are not equal')\n",
    "null_df_series = bar_coupon_data.query(\"Bar > 1 & age > 25\")['Y']\n",
    "alt_df_series  = bar_coupon_data.query(\"Bar < 1 & age < 25\")['Y']\n",
    "tscore, pvalue = ttest_ind(null_df_series,alt_df_series, equal_var=True )\n",
    "\n",
    "print('tscore for our two Hypothesis ', tscore)\n",
    "print('pvalue for our two Hypothesis ', pvalue)"
   ]
  },
  {
   "cell_type": "markdown",
   "metadata": {},
   "source": [
    "6. Using alpha at 0.05 test your hypothesis and state your conclusion."
   ]
  },
  {
   "cell_type": "code",
   "execution_count": 359,
   "metadata": {},
   "outputs": [
    {
     "name": "stdout",
     "output_type": "stream",
     "text": [
      "As the above pvalue: 3.038 is greater than 0.05, we fail to reject the Null Hypothesis\n"
     ]
    }
   ],
   "source": [
    "print('As the above pvalue: 3.038 is greater than 0.05, we fail to reject the Null Hypothesis')"
   ]
  },
  {
   "cell_type": "markdown",
   "metadata": {},
   "source": [
    "7. Use the same process to compare the acceptance rate between drivers who go to bars more than once a month and had passengers that were not a kid and had occupations other than farming, fishing, or forestry. \n"
   ]
  },
  {
   "cell_type": "code",
   "execution_count": 360,
   "metadata": {},
   "outputs": [
    {
     "name": "stdout",
     "output_type": "stream",
     "text": [
      "Null Hypothesis: Means of drivers who go to bars more than once a month and had passengers that were not a kid and had occupations other than farming, fishing, or forestry is equal to the others \n",
      "Alternate Hypothesis: Means are not equal\n",
      "tscore for our two Hypothesis  1.4481316568898581\n",
      "pvalue for our two Hypothesis  0.1481479741857574\n",
      "As the above pvalue: 0.148 is greater than 0.05, we fail to reject the Null Hypothesis\n"
     ]
    }
   ],
   "source": [
    "print('Null Hypothesis: Means of drivers who go to bars more than once a month and had passengers that were not a kid and had occupations other than farming, fishing, or forestry is equal to the others ')\n",
    "print('Alternate Hypothesis: Means are not equal')\n",
    "null_df_series = bar_coupon_data.query(\"Bar > 1 & passanger != 'Kid(s)' & occupation != 'Farming Fishing & Forestry' \")['Y']\n",
    "alt_df_series  = bar_coupon_data.query(\"Bar < 1 & passanger == 'Kid(s)' & occupation == 'Farming Fishing & Forestry' \")['Y']\n",
    "\n",
    "tscore, pvalue = ttest_ind(null_df_series,alt_df_series, equal_var=True)\n",
    "print('tscore for our two Hypothesis ', tscore)\n",
    "print('pvalue for our two Hypothesis ', pvalue)\n",
    "print('As the above pvalue: 0.148 is greater than 0.05, we fail to reject the Null Hypothesis')"
   ]
  },
  {
   "cell_type": "markdown",
   "metadata": {},
   "source": [
    "8. Compare the acceptance rates between those passengers who:\n",
    "\n",
    "- go to bars more than once a month, had passengers that were not a kid, and were not widowed *OR*\n",
    "- go to bars more than once a month and are under the age of 30 *OR*\n",
    "- go to cheap restaurants more than 4 times a month and income is less than 50K. \n",
    "\n"
   ]
  },
  {
   "cell_type": "code",
   "execution_count": 437,
   "metadata": {},
   "outputs": [
    {
     "name": "stdout",
     "output_type": "stream",
     "text": [
      "0.19484382746653445 0.12345066931085771 0.07734258800198314\n",
      "Highest acceptance rate is by drivers who go to Bars more than once a month, had passengers that were not a kid, and were not widowed\n"
     ]
    }
   ],
   "source": [
    "prop5_bar_coupon = bar_coupon_data.query(\"Y==1 & Bar > 1 & passanger != 'Kid(s)' & maritalStatus != 'Widowed' \")['Y'].count()/bar_coupon_data['Y'].count()\n",
    "prop6_bar_coupon = bar_coupon_data.query(\"Y==1 & Bar > 1 & age < 30 \")['Y'].count()/bar_coupon_data['Y'].count()\n",
    "prop7_bar_coupon = bar_coupon_data.query(\"Y==1 & RestaurantLessThan20 > 4 & income < 50000\")['Y'].count()/bar_coupon_data['Y'].count()\n",
    "\n",
    "print(prop5_bar_coupon,prop6_bar_coupon,prop7_bar_coupon)\n",
    "print('Highest acceptance rate is by drivers who go to Bars more than once a month, had passengers that were not a kid, and were not widowed');"
   ]
  },
  {
   "cell_type": "markdown",
   "metadata": {},
   "source": [
    "9.  Based on these observations, what do you hypothesize about passengers who accepted the bar coupons?"
   ]
  },
  {
   "cell_type": "code",
   "execution_count": 433,
   "metadata": {},
   "outputs": [
    {
     "name": "stdout",
     "output_type": "stream",
     "text": [
      "Passengers who are friends to the drivers accepted more bar coupons\n",
      "Null Hypothesis: Passengers who are friends to the drivers and others passengers coupon acceptence means are equal (no difference in acceptence of coupons)\n",
      "tscore for our two Hypothesis  3.648555317909137\n",
      "pvalue for our two Hypothesis  0.0002741998126054808\n",
      "Since pvalue  less than 0.05, hence we reject null hypothesis and state: Passengers who are friends to the drivers accepted more bar coupons\n"
     ]
    }
   ],
   "source": [
    "\n",
    "group_by = bar_coupon_data.query(\"Y==1 & passanger != 'Alone'\").groupby(['passanger'])[['Y']].count()\n",
    "group_by = group_by.reset_index()\n",
    "group_by.loc[group_by['Y'].idxmax()]\n",
    "\n",
    "print('Passengers who are friends to the drivers accepted more bar coupons');\n",
    "print('Null Hypothesis: Passengers who are friends to the drivers and others passengers coupon acceptence means are equal (no difference in acceptence of coupons)')\n",
    "null = bar_coupon_data.query(\"passanger != 'Alone'\")['Y']\n",
    "alt  = bar_coupon_data.query(\"passanger not in ['Alone','Friend(s)']\")['Y']\n",
    "\n",
    "tscore, pvalue = ttest_ind(null,alt, equal_var=True)\n",
    "print('tscore for our two Hypothesis ', tscore)\n",
    "print('pvalue for our two Hypothesis ', pvalue)\n",
    "\n",
    "print('Since pvalue  less than 0.05, hence we reject null hypothesis and state: Passengers who are friends to the drivers accepted more bar coupons' )"
   ]
  },
  {
   "cell_type": "markdown",
   "metadata": {},
   "source": [
    "### Independent Investigation\n",
    "\n",
    "Using the bar coupon example as motivation, you are to explore one of the other coupon groups and try to determine the characteristics of passengers who accept the coupons.  "
   ]
  },
  {
   "cell_type": "code",
   "execution_count": 445,
   "metadata": {},
   "outputs": [
    {
     "name": "stdout",
     "output_type": "stream",
     "text": [
      "Percentage of drivers, who visited a CoffeeHouse Less than 3 times and accepted the coupon 0.3506006006006006\n",
      "Percentage of drivers, who visited a CoffeeHouse More than 3 times and accepted the coupon 0.14864864864864866\n",
      "Drivers, who visited a CoffeeHouse 3 or fewer times a month accepted coupons more!\n"
     ]
    }
   ],
   "source": [
    "coffee_house_coupon_data = data.query(\"coupon == 'Coffee House'\")\n",
    "prop1_bar_coupon = coffee_house_coupon_data.query(\"Y==1 & CoffeeHouse <= 3\")['Y'].count()/coffee_house_coupon_data['Y'].count()\n",
    "prop2_bar_coupon = coffee_house_coupon_data.query(\"Y==1 & CoffeeHouse > 3\")['Y'].count()/coffee_house_coupon_data['Y'].count()\n",
    "print('Percentage of drivers, who visited a CoffeeHouse Less than 3 times and accepted the coupon', prop1_bar_coupon);\n",
    "print('Percentage of drivers, who visited a CoffeeHouse More than 3 times and accepted the coupon', prop2_bar_coupon);\n",
    "print('Drivers, who visited a CoffeeHouse 3 or fewer times a month accepted coupons more!');"
   ]
  },
  {
   "cell_type": "code",
   "execution_count": 446,
   "metadata": {},
   "outputs": [
    {
     "name": "stdout",
     "output_type": "stream",
     "text": [
      "Coupon acceptance rate of drivers, who visited CoffeeHouse More than 1 time a month and are over the age of 25:  0.21696696696696696\n",
      "Coupon acceptance rate of drivers, to all other criteria:  0.04229229229229229\n",
      "Acceptence rate is higher among the drivers who visited a CoffeeHouse more than once a month and are over the age of 25!\n"
     ]
    }
   ],
   "source": [
    "prop3_bar_coupon = coffee_house_coupon_data.query(\"Y==1 & CoffeeHouse > 1 & age > 25\")['Y'].count()/coffee_house_coupon_data['Y'].count()\n",
    "prop4_bar_coupon = coffee_house_coupon_data.query(\"Y==1 & CoffeeHouse < 1 & age < 25\")['Y'].count()/coffee_house_coupon_data['Y'].count()\n",
    "print('Coupon acceptance rate of drivers, who visited CoffeeHouse More than 1 time a month and are over the age of 25: ', prop3_bar_coupon);\n",
    "print('Coupon acceptance rate of drivers, to all other criteria: ', prop4_bar_coupon);\n",
    "print('Acceptence rate is higher among the drivers who visited a CoffeeHouse more than once a month and are over the age of 25!')\n"
   ]
  },
  {
   "cell_type": "code",
   "execution_count": 447,
   "metadata": {},
   "outputs": [
    {
     "name": "stdout",
     "output_type": "stream",
     "text": [
      "Null Hypothesis: Means of drivers who go to a CoffeeHouse more than once a month and are over the age of 25 is equal to the others \n",
      "Alternate Hypothesis: Means are not equal\n",
      "tscore for our two Hypothesis  11.000859150033513\n",
      "pvalue for our two Hypothesis  2.6566924929994746e-27\n",
      "As the above pvalue: 0.35 is greater than 0.05, we fail to reject the Null Hypothesis\n"
     ]
    }
   ],
   "source": [
    "print('Null Hypothesis: Means of drivers who go to a CoffeeHouse more than once a month and are over the age of 25 is equal to the others ')\n",
    "print('Alternate Hypothesis: Means are not equal')\n",
    "null_df_series = coffee_house_coupon_data.query(\"CoffeeHouse > 1 & age > 25\")['Y']\n",
    "alt_df_series  = coffee_house_coupon_data.query(\"CoffeeHouse < 1 & age < 25\")['Y']\n",
    "tscore, pvalue = ttest_ind(null_df_series,alt_df_series, equal_var=True )\n",
    "\n",
    "print('tscore for our two Hypothesis ', tscore)\n",
    "print('pvalue for our two Hypothesis ', pvalue)\n",
    "print('As the above pvalue: 2.65 is greater than 0.05, we fail to reject the Null Hypothesis')"
   ]
  },
  {
   "cell_type": "code",
   "execution_count": 448,
   "metadata": {},
   "outputs": [
    {
     "name": "stdout",
     "output_type": "stream",
     "text": [
      "Null Hypothesis: Means of drivers who go to CoffeeHouse more than once a month and had passengers that were not a kid and had occupations other than farming, fishing, or forestry is equal to the others \n",
      "Alternate Hypothesis: Means are not equal\n",
      "tscore for our two Hypothesis  -0.021494540552551327\n",
      "pvalue for our two Hypothesis  0.9828535224324567\n",
      "As the above pvalue: 0.58 is greater than 0.05, we fail to reject the Null Hypothesis\n"
     ]
    }
   ],
   "source": [
    "print('Null Hypothesis: Means of drivers who go to CoffeeHouse more than once a month and had passengers that were not a kid and had occupations other than farming, fishing, or forestry is equal to the others ')\n",
    "print('Alternate Hypothesis: Means are not equal')\n",
    "null_df_series = coffee_house_coupon_data.query(\"CoffeeHouse > 1 & passanger != 'Kid(s)' & occupation != 'Farming Fishing & Forestry' \")['Y']\n",
    "alt_df_series  = coffee_house_coupon_data.query(\"CoffeeHouse < 1 & passanger == 'Kid(s)' & occupation == 'Farming Fishing & Forestry' \")['Y']\n",
    "\n",
    "tscore, pvalue = ttest_ind(null_df_series,alt_df_series, equal_var=True)\n",
    "print('tscore for our two Hypothesis ', tscore)\n",
    "print('pvalue for our two Hypothesis ', pvalue)\n",
    "print('As the above pvalue: 0.58 is greater than 0.05, we fail to reject the Null Hypothesis')"
   ]
  },
  {
   "cell_type": "code",
   "execution_count": 449,
   "metadata": {},
   "outputs": [
    {
     "name": "stdout",
     "output_type": "stream",
     "text": [
      "Compare the acceptance rates between those passengers who:\n",
      " Acceptance rate of drivers who go to CoffeeHouse more than once a month, had passengers that were not a kid, and were not widowed:  0.5939514129895885\n",
      " Acceptance rate of drivers who go to CoffeeHouse more than once a month and are under the age of 30:  0.3366385721368369\n",
      "  Acceptance rate of drivers who go to cheap restaurants more than 4 times a month and income is less than 50K:  0.19732275656916212\n",
      " High acceptence rate is by drivers who go to CoffeeHouse more than once a month, had passengers that were not a kid, and were not widowed\n"
     ]
    }
   ],
   "source": [
    "prop5_bar_coupon = coffee_house_coupon_data.query(\"Y==1 & CoffeeHouse > 1 & passanger != 'Kid(s)' & maritalStatus != 'Widowed' \")['Y'].count()/bar_coupon_data['Y'].count()\n",
    "prop6_bar_coupon = coffee_house_coupon_data.query(\"Y==1 & CoffeeHouse > 1 & age < 30 \")['Y'].count()/bar_coupon_data['Y'].count()\n",
    "prop7_bar_coupon = coffee_house_coupon_data.query(\"Y==1 & RestaurantLessThan20 > 4 & income < 50000\")['Y'].count()/bar_coupon_data['Y'].count()\n",
    "\n",
    "print('Compare the acceptance rates between those passengers who:');\n",
    "print(' Acceptance rate of drivers who go to CoffeeHouse more than once a month, had passengers that were not a kid, and were not widowed: ',prop5_bar_coupon);\n",
    "print(' Acceptance rate of drivers who go to CoffeeHouse more than once a month and are under the age of 30: ',prop6_bar_coupon);\n",
    "print('  Acceptance rate of drivers who go to cheap restaurants more than 4 times a month and income is less than 50K: ',prop7_bar_coupon);\n",
    "\n",
    "print(' High acceptence rate is by drivers who go to CoffeeHouse more than once a month, had passengers that were not a kid, and were not widowed')\n"
   ]
  },
  {
   "cell_type": "code",
   "execution_count": 450,
   "metadata": {},
   "outputs": [
    {
     "name": "stdout",
     "output_type": "stream",
     "text": [
      "Passengers who are friends to the drivers accepted more bar coupons\n",
      "Null Hypothesis: Passengers who are friends to the drivers and others passengers coupon acceptence means are equal (no difference in acceptence of coupons)\n",
      "tscore for our two Hypothesis  1.7506257998814514\n",
      "pvalue for our two Hypothesis  0.08014666866919899\n",
      "Since pvalue  less than 0.05, hence we reject null hypothesis and state: Passengers who are friends to the drivers accepted more bar coupons\n"
     ]
    }
   ],
   "source": [
    "print('Passengers who are friends to the drivers accepted more bar coupons');\n",
    "print('Null Hypothesis: Passengers who are friends to the drivers and others passengers coupon acceptence means are equal (no difference in acceptence of coupons)')\n",
    "null = coffee_house_coupon_data.query(\"passanger != 'Alone'\")['Y']\n",
    "alt  = coffee_house_coupon_data.query(\"passanger not in ['Alone','Friend(s)']\")['Y']\n",
    "\n",
    "tscore, pvalue = ttest_ind(null,alt, equal_var=True)\n",
    "print('tscore for our two Hypothesis ', tscore)\n",
    "print('pvalue for our two Hypothesis ', pvalue)\n",
    "\n",
    "print('Since pvalue  less than 0.05, hence we reject null hypothesis and state: Passengers who are friends to the drivers accepted more bar coupons' )"
   ]
  },
  {
   "cell_type": "code",
   "execution_count": 452,
   "metadata": {},
   "outputs": [
    {
     "data": {
      "text/plain": [
       "gender          Female\n",
       "age                 26\n",
       "passanger    Friend(s)\n",
       "Y                   99\n",
       "Name: 5, dtype: object"
      ]
     },
     "execution_count": 452,
     "metadata": {},
     "output_type": "execute_result"
    }
   ],
   "source": [
    "group_by = coffee_house_coupon_data.query(\"Y==1 & passanger != 'Alone'\").groupby(['gender','age','passanger'])[['Y']].count()\n",
    "group_by = group_by.reset_index()\n",
    "group_by.loc[group_by['Y'].idxmax()]"
   ]
  },
  {
   "cell_type": "code",
   "execution_count": null,
   "metadata": {},
   "outputs": [],
   "source": []
  }
 ],
 "metadata": {
  "kernelspec": {
   "display_name": "Python 3 (ipykernel)",
   "language": "python",
   "name": "python3"
  },
  "language_info": {
   "codemirror_mode": {
    "name": "ipython",
    "version": 3
   },
   "file_extension": ".py",
   "mimetype": "text/x-python",
   "name": "python",
   "nbconvert_exporter": "python",
   "pygments_lexer": "ipython3",
   "version": "3.9.7"
  },
  "widgets": {
   "application/vnd.jupyter.widget-state+json": {
    "state": {},
    "version_major": 2,
    "version_minor": 0
   }
  }
 },
 "nbformat": 4,
 "nbformat_minor": 4
}
